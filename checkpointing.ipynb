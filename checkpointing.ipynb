{
 "cells": [
  {
   "cell_type": "markdown",
   "metadata": {
    "jp-MarkdownHeadingCollapsed": true,
    "slideshow": {
     "slide_type": "slide"
    },
    "tags": []
   },
   "source": [
    "<style>\n",
    "div.column {\n",
    "  float: left;\n",
    "  width: 33.33%;\n",
    "  padding: 5px;\n",
    "}\n",
    "div.row::after {\n",
    "  content: \"\";\n",
    "  clear: both;\n",
    "  display: table;\n",
    "}\n",
    "</style>\n",
    "\n",
    "# Checkpointing in FEniCSx\n",
    "\n",
    "## Jørgen Schartum Dokken\n",
    "\n",
    "### Simula Research Laboratory\n",
    "\n",
    "FEniCS 23'\n",
    " <div class=\"row\">\n",
    "  <div class=\"column\">\n",
    "    <img src=\"figures/fenics_banner.png\" style=\"width:100%\">\n",
    "    </div>\n",
    "  <div class=\"column\">\n",
    "   <img src=\"figures/logo.png\" width=\"100%\">\n",
    "   </div>\n",
    "</div> \n"
   ]
  },
  {
   "cell_type": "markdown",
   "metadata": {
    "slideshow": {
     "slide_type": "slide"
    },
    "tags": []
   },
   "source": [
    "# What is checkpointing?\n",
    "\n",
    "> Checkpointing refers to the ability to store the state of a computation in a way that allows it be continued at a later time without changing the computation’s behavior [1]"
   ]
  },
  {
   "cell_type": "markdown",
   "metadata": {
    "editable": true,
    "slideshow": {
     "slide_type": ""
    },
    "tags": []
   },
   "source": [
    "<div>\n",
    "<p style=\"text-align:center;\"><img src=\"figures/checkpointing.drawio.png\" width=\"600\">\n",
    "</div>"
   ]
  },
  {
   "cell_type": "markdown",
   "metadata": {
    "tags": []
   },
   "source": [
    "[1] Schulz, M. (2011). Checkpointing. In: Padua, D. (eds) Encyclopedia of Parallel Computing. Springer, Boston, MA. [10.1007/978-0-387-09766-4_62](https://doi.org/10.1007/978-0-387-09766-4_62)"
   ]
  },
  {
   "cell_type": "markdown",
   "metadata": {
    "editable": true,
    "slideshow": {
     "slide_type": "slide"
    },
    "tags": []
   },
   "source": [
    "# Types of checkpointing\n",
    "\n",
    "- _Snapshot checkpointing_\n",
    "  - Only works while the program is running\n",
    "  - FEniCS-setting: Mesh has to be the same"
   ]
  },
  {
   "cell_type": "markdown",
   "metadata": {
    "editable": true,
    "slideshow": {
     "slide_type": "fragment"
    },
    "tags": []
   },
   "source": [
    "  - _Recoverable checkpointing_\n",
    "    - Should work on any system\n",
    "    - Any number of processes"
   ]
  },
  {
   "cell_type": "markdown",
   "metadata": {
    "editable": true,
    "slideshow": {
     "slide_type": "slide"
    },
    "tags": []
   },
   "source": [
    "# Implementing a snapshot checkpoint\n",
    "\n",
    "Illustrated using [IPythonParallel](https://ipyparallel.readthedocs.io/en/latest/)"
   ]
  },
  {
   "cell_type": "code",
   "execution_count": 1,
   "metadata": {
    "editable": true,
    "slideshow": {
     "slide_type": ""
    },
    "tags": [
     "hide-output"
    ]
   },
   "outputs": [
    {
     "name": "stdout",
     "output_type": "stream",
     "text": [
      "Starting 3 engines with <class 'ipyparallel.cluster.launcher.MPIEngineSetLauncher'>\n"
     ]
    }
   ],
   "source": [
    "import ipyparallel as ipp\n",
    "cluster = ipp.Cluster(engines=\"mpi\", n=3, interactive=False)\n",
    "rc = cluster.start_and_connect_sync()"
   ]
  },
  {
   "cell_type": "code",
   "execution_count": 2,
   "metadata": {
    "editable": true,
    "slideshow": {
     "slide_type": ""
    },
    "tags": []
   },
   "outputs": [
    {
     "name": "stdout",
     "output_type": "stream",
     "text": [
      "[stdout:0] \n",
      "MPI.COMM_WORLD.rank=0, MPI.COMM_WORLD.size=3\n",
      "[stdout:1] \n",
      "MPI.COMM_WORLD.rank=1, MPI.COMM_WORLD.size=3\n",
      "[stdout:2] \n",
      "MPI.COMM_WORLD.rank=2, MPI.COMM_WORLD.size=3\n"
     ]
    }
   ],
   "source": [
    "%%px\n",
    "from mpi4py import MPI\n",
    "from dolfinx import mesh, fem\n",
    "import adios2\n",
    "from pathlib import Path\n",
    "import numpy as np\n",
    "print(f\"{MPI.COMM_WORLD.rank=}, {MPI.COMM_WORLD.size=}\")"
   ]
  },
  {
   "cell_type": "markdown",
   "metadata": {
    "editable": true,
    "slideshow": {
     "slide_type": "slide"
    },
    "tags": []
   },
   "source": [
    "# Implementing a snapshot checkpoint (write)"
   ]
  },
  {
   "cell_type": "code",
   "execution_count": 3,
   "metadata": {
    "editable": true,
    "slideshow": {
     "slide_type": ""
    },
    "tags": []
   },
   "outputs": [],
   "source": [
    "%%px\n",
    "\n",
    "def snapshot_checkpoint_write(uh: fem.Function, file: Path):\n",
    "    # Create ADIOS IO\n",
    "    adios = adios2.ADIOS(uh.function_space.mesh.comm)\n",
    "    io_name = \"SnapshotCheckPoint\"\n",
    "    io = adios.DeclareIO(io_name)\n",
    "    io.SetEngine(\"BP4\")\n",
    "    adios_file = io.Open(str(file), adios2.Mode.Write)\n",
    "\n",
    "    dofmap = uh.function_space.dofmap\n",
    "    num_dofs_local = dofmap.index_map.size_local * dofmap.index_map_bs\n",
    "\n",
    "    # Extract local function data\n",
    "    local_dofs = uh.x.array[:num_dofs_local].copy()\n",
    "\n",
    "    # Write to file\n",
    "    adios_file.BeginStep()\n",
    "    dofs = io.DefineVariable(\"dofs\", local_dofs, count=[num_dofs_local])\n",
    "    adios_file.Put(dofs, local_dofs, adios2.Mode.Sync)\n",
    "    adios_file.EndStep()\n",
    "    adios.RemoveIO(io_name)"
   ]
  },
  {
   "cell_type": "markdown",
   "metadata": {
    "editable": true,
    "slideshow": {
     "slide_type": "slide"
    },
    "tags": []
   },
   "source": [
    "# Implementing a snapshot checkpoint (write)"
   ]
  },
  {
   "cell_type": "code",
   "execution_count": 9,
   "metadata": {
    "editable": true,
    "slideshow": {
     "slide_type": ""
    },
    "tags": []
   },
   "outputs": [],
   "source": [
    "%%px\n",
    "domain = mesh.create_unit_square(MPI.COMM_WORLD, 10, 10)\n",
    "V = fem.FunctionSpace(domain, (\"Lagrange\", 5))\n",
    "u = fem.Function(V)\n",
    "u.interpolate(lambda x: x[0]**5 + 3*x[1]*x[0]**2)\n",
    "scp_file = Path(\"u.bp\")\n",
    "snapshot_checkpoint_write(u, scp_file)"
   ]
  },
  {
   "cell_type": "code",
   "execution_count": 10,
   "metadata": {
    "editable": true,
    "slideshow": {
     "slide_type": ""
    },
    "tags": []
   },
   "outputs": [
    {
     "name": "stdout",
     "output_type": "stream",
     "text": [
      "  double   dofs  [3]*{__} = 2.99914e-53 / 4\n",
      "        step 0: \n",
      "          block 0: [0:871] = 0.000425685 / 3.1\n",
      "          block 1: [0:862] = 0.0866018 / 4\n",
      "          block 2: [0:865] = 2.99914e-53 / 0.49024\n"
     ]
    }
   ],
   "source": [
    "import subprocess\n",
    "from pathlib import Path\n",
    "scp_file = Path(\"u.bp\")\n",
    "_ = subprocess.run([\"bpls\", \"-l\", \"-D\", str(scp_file.absolute())])"
   ]
  },
  {
   "cell_type": "markdown",
   "metadata": {
    "editable": true,
    "slideshow": {
     "slide_type": "slide"
    },
    "tags": []
   },
   "source": [
    "# Implementing a snapshot checkpoint (read)"
   ]
  },
  {
   "cell_type": "code",
   "execution_count": 16,
   "metadata": {
    "editable": true,
    "slideshow": {
     "slide_type": ""
    },
    "tags": []
   },
   "outputs": [],
   "source": [
    "%%px\n",
    "def snapshot_checkpoint_read(uh: fem.Function, file: Path):\n",
    "    adios = adios2.ADIOS(uh.function_space.mesh.comm)\n",
    "    io_name = \"SnapshotCheckPoint\"\n",
    "    io = adios.DeclareIO(io_name)\n",
    "    io.SetEngine(\"BP4\")\n",
    "    adios_file = io.Open(str(file), adios2.Mode.Read)\n",
    "\n",
    "    dofmap = uh.function_space.dofmap\n",
    "    num_dofs_local = dofmap.index_map.size_local * dofmap.index_map_bs\n",
    "\n",
    "    adios_file.BeginStep()\n",
    "    in_variable = io.InquireVariable(\"dofs\")\n",
    "    in_variable.SetBlockSelection(uh.function_space.mesh.comm.rank)\n",
    "    adios_file.Get(in_variable, uh.x.array, adios2.Mode.Sync)\n",
    "    adios_file.EndStep()\n",
    "    uh.x.scatter_forward()\n",
    "    adios.RemoveIO(io_name)"
   ]
  },
  {
   "cell_type": "code",
   "execution_count": 17,
   "metadata": {
    "editable": true,
    "slideshow": {
     "slide_type": ""
    },
    "tags": []
   },
   "outputs": [],
   "source": [
    "%%px\n",
    "v = fem.Function(V)\n",
    "snapshot_checkpoint_read(v, scp_file)\n",
    "assert(np.allclose(u.x.array, v.x.array))"
   ]
  },
  {
   "cell_type": "markdown",
   "metadata": {
    "editable": true,
    "slideshow": {
     "slide_type": "slide"
    },
    "tags": []
   },
   "source": [
    "# ADIOS4DOLFINx is a package for checkpointing\n",
    "- Implemented in Python with [ADIOS2](https://adios2.readthedocs.io/en/latest/)\n",
    "- Available at: [https://github.com/jorgensd/adios4dolfinx/](https://github.com/jorgensd/adios4dolfinx/)\n",
    "## Features\n",
    "- Snapshot checkpointing\n",
    "- Recoverable checkpointing"
   ]
  },
  {
   "cell_type": "code",
   "execution_count": 25,
   "metadata": {
    "editable": true,
    "slideshow": {
     "slide_type": ""
    },
    "tags": []
   },
   "outputs": [],
   "source": [
    "%%px\n",
    "import adios4dolfinx as adx\n",
    "domain = mesh.create_unit_cube(MPI.COMM_WORLD, 10, 7, 3)\n",
    "V = fem.FunctionSpace(domain, (\"N1curl\", 3))\n",
    "u = fem.Function(V)\n",
    "u.interpolate(lambda x: (x[0], x[1]*x[1], np.sin(x[2])))\n",
    "cp_file = Path(\"u_curl.bp\")\n",
    "adx.snapshot_checkpoint(u, cp_file, adios2.Mode.Write)\n",
    "v = fem.Function(V)\n",
    "adx.snapshot_checkpoint(v, cp_file, adios2.Mode.Read)\n",
    "assert np.allclose(v.x.array, u.x.array)"
   ]
  },
  {
   "cell_type": "markdown",
   "metadata": {
    "editable": true,
    "slideshow": {
     "slide_type": "slide"
    },
    "tags": []
   },
   "source": [
    "# How to do recoverable checkpointing?\n",
    "\n",
    "Required information:\n",
    "- `Mesh` (topology, geometry, base-element)\n",
    "- `FunctionSpace` (dofmap)\n",
    "- `Function` coefficient (dofs)"
   ]
  },
  {
   "cell_type": "code",
   "execution_count": 35,
   "metadata": {
    "editable": true,
    "slideshow": {
     "slide_type": ""
    },
    "tags": []
   },
   "outputs": [],
   "source": [
    "%%px\n",
    "domain = mesh.create_unit_square(MPI.COMM_WORLD, 10, 10, mesh.CellType.quadrilateral)\n",
    "V = fem.FunctionSpace(domain, (\"NCE\", 3))\n",
    "u = fem.Function(V)\n",
    "u.interpolate(lambda x: (x[0]**5, 3*x[1]*x[0]**2))\n",
    "checkpoint_file = Path(\"function_checkpoint.bp\")\n",
    "adx.write_mesh(domain, checkpoint_file, engine=\"BP4\")\n",
    "adx.write_function(u, checkpoint_file, engine=\"BP4\")"
   ]
  },
  {
   "cell_type": "markdown",
   "metadata": {
    "editable": true,
    "slideshow": {
     "slide_type": "slide"
    },
    "tags": []
   },
   "source": [
    "# Required data-structures"
   ]
  },
  {
   "cell_type": "code",
   "execution_count": 37,
   "metadata": {
    "editable": true,
    "slideshow": {
     "slide_type": ""
    },
    "tags": [
     "hide-input"
    ]
   },
   "outputs": [
    {
     "name": "stdout",
     "output_type": "stream",
     "text": [
      "  uint32_t  CellPermutations  {100} = 0 / 12\n",
      "        step 0: \n",
      "          block 0: [ 0:32] = 0 / 8\n",
      "          block 1: [33:65] = 0 / 12\n",
      "          block 2: [66:99] = 0 / 8\n",
      "  int64_t   Dofmap            {2400} = 0 / 1859\n",
      "        step 1: \n",
      "          block 0: [   0: 791] = 0 / 1373\n",
      "          block 1: [ 792:1583] = 189 / 1520\n",
      "          block 2: [1584:2399] = 504 / 1859\n",
      "  double    Points            {121, 2} = 0 / 1\n",
      "        step 0: \n",
      "          block 0: [  0: 39, 0:1] = 0 / 1\n",
      "          block 1: [ 40: 80, 0:1] = 0 / 1\n",
      "          block 2: [ 81:120, 0:1] = 0.3 / 1\n",
      "  int64_t   Topology          {100, 4} = 0 / 120\n",
      "        step 0: \n",
      "          block 0: [ 0:32, 0:3] = 0 / 93\n",
      "          block 1: [33:65, 0:3] = 17 / 117\n",
      "          block 2: [66:99, 0:3] = 38 / 120\n",
      "  double    Values            {1860} = -0.165 / 0.285\n",
      "        step 1: \n",
      "          block 0: [   0: 620] = -0.00945 / 0.025175\n",
      "          block 1: [ 621:1232] = -0.105 / 0.135\n",
      "          block 2: [1233:1859] = -0.165 / 0.285\n",
      "  int64_t   XDofmap           {101} = 0 / 2400\n",
      "        step 1: \n",
      "          block 0: [  0: 33] = 0 / 792\n",
      "          block 1: [ 33: 66] = 792 / 1584\n",
      "          block 2: [ 66:100] = 1584 / 2400\n"
     ]
    }
   ],
   "source": [
    "checkpoint_file = Path(\"function_checkpoint.bp\")\n",
    "_ = subprocess.run([\"bpls\", \"-l\", \"-D\", str(checkpoint_file.absolute())])"
   ]
  },
  {
   "cell_type": "markdown",
   "metadata": {
    "editable": true,
    "slideshow": {
     "slide_type": "slide"
    },
    "tags": []
   },
   "source": [
    "# Cell-permutations are used to consistently orient any function space in parallel [2]"
   ]
  },
  {
   "cell_type": "code",
   "execution_count": 38,
   "metadata": {
    "editable": true,
    "slideshow": {
     "slide_type": ""
    },
    "tags": [
     "hide-input"
    ]
   },
   "outputs": [
    {
     "name": "stdout",
     "output_type": "stream",
     "text": [
      "  uint32_t  CellPermutations  {100} = 0 / 12\n",
      "        step 0: \n",
      "          block 0: [ 0:32] = 0 / 8\n",
      "          block 1: [33:65] = 0 / 12\n",
      "          block 2: [66:99] = 0 / 8\n"
     ]
    }
   ],
   "source": [
    "checkpoint_file = Path(\"function_checkpoint.bp\")\n",
    "_ = subprocess.run([\"bpls\", str(checkpoint_file.absolute()), \"-la\", \"CellPermutations\", \"-D\"])"
   ]
  },
  {
   "cell_type": "markdown",
   "metadata": {
    "editable": true,
    "slideshow": {
     "slide_type": ""
    },
    "tags": []
   },
   "source": [
    "<div>\n",
    "<p style=\"text-align:center;\"><img src=\"figures/dof_orientation.png\" width=\"300\">\n",
    "</div>\n",
    "\n",
    "[2] M.W. Scroggs, J.S. Dokken, C.N. Richardson, and G.N. Wells. 2022. _Construction of Arbitrary Order Finite Element Degree-of-Freedom Maps on Polygonal and Polyhedral Cell Meshes_ ACM Trans. Math. Softw. 48, 2, [10.1145/3524456](https://doi.org/10.1145/3524456)  "
   ]
  },
  {
   "cell_type": "markdown",
   "metadata": {
    "editable": true,
    "slideshow": {
     "slide_type": "slide"
    },
    "tags": []
   },
   "source": [
    "# The dofmap is needed to map the `Values` to the correct cell after partitioning"
   ]
  },
  {
   "cell_type": "code",
   "execution_count": 42,
   "metadata": {
    "editable": true,
    "slideshow": {
     "slide_type": ""
    },
    "tags": [
     "hide-input"
    ]
   },
   "outputs": [
    {
     "name": "stdout",
     "output_type": "stream",
     "text": [
      "  int64_t   Dofmap            {2400} = 0 / 1859\n",
      "        step 1: \n",
      "          block 0: [   0: 791] = 0 / 1373\n",
      "          block 1: [ 792:1583] = 189 / 1520\n",
      "          block 2: [1584:2399] = 504 / 1859\n",
      "  int64_t   XDofmap           {101} = 0 / 2400\n",
      "        step 1: \n",
      "          block 0: [  0: 33] = 0 / 792\n",
      "          block 1: [ 33: 66] = 792 / 1584\n",
      "          block 2: [ 66:100] = 1584 / 2400\n"
     ]
    }
   ],
   "source": [
    "checkpoint_file = Path(\"function_checkpoint.bp\")\n",
    "_ = subprocess.run([\"bpls\", str(checkpoint_file.absolute()), \"-la\", \"*Dof*\", \"-D\"])"
   ]
  },
  {
   "cell_type": "markdown",
   "metadata": {
    "editable": true,
    "slideshow": {
     "slide_type": "slide"
    },
    "tags": []
   },
   "source": [
    "# What is the optimal format?\n",
    "\n",
    "## FEM software\n",
    "- Most finite element software use their own format for inputting/outputting meshes and functions\n",
    "- No general consensus on what format to use\n",
    "\n",
    "## Post-processing\n",
    "- Most formats are based on [VTK](https://vtk.org/) in some shape or form\n",
    "- Many different file formats support `vtk`\n",
    "  - `.pvd`-files (`xml`-based)\n",
    "  - `.xdmf`-files (`xml`+binary (`.h5`)\n",
    "  - `.bp`-files (binary files in folder)"
   ]
  },
  {
   "cell_type": "code",
   "execution_count": null,
   "metadata": {
    "slideshow": {
     "slide_type": "fragment"
    },
    "tags": []
   },
   "outputs": [],
   "source": []
  }
 ],
 "metadata": {
  "kernelspec": {
   "display_name": "Python 3 (DOLFINx with ADIOS2)",
   "language": "python",
   "name": "python3-adios"
  },
  "language_info": {
   "codemirror_mode": {
    "name": "ipython",
    "version": 3
   },
   "file_extension": ".py",
   "mimetype": "text/x-python",
   "name": "python",
   "nbconvert_exporter": "python",
   "pygments_lexer": "ipython3",
   "version": "3.10.6"
  }
 },
 "nbformat": 4,
 "nbformat_minor": 4
}

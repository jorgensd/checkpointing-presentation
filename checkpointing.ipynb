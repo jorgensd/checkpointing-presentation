{
 "cells": [
  {
   "cell_type": "markdown",
   "metadata": {
    "slideshow": {
     "slide_type": "slide"
    },
    "tags": []
   },
   "source": [
    "# Checkpointing in FEniCSx\n",
    "\n",
    "## Jørgen Schartum Dokken\n",
    "\n",
    "### Simula Research Laboratory\n",
    "\n",
    "FEniCS 23'\n",
    "\n",
    "<div>\n",
    "<p style=\"text-align:center;\"><img src=\"figures/fenics_banner.png\" width=\"500\">\n",
    "</div>\n"
   ]
  },
  {
   "cell_type": "markdown",
   "metadata": {
    "slideshow": {
     "slide_type": "slide"
    },
    "tags": []
   },
   "source": [
    "# What is checkpointing?\n",
    "\n",
    "> Checkpointing refers to the ability to store the state of a computation in a way that allows it be continued at a later time without changing the computation’s behavior [1]"
   ]
  },
  {
   "cell_type": "markdown",
   "metadata": {
    "tags": []
   },
   "source": [
    "<div>\n",
    "<p style=\"text-align:center;\"><img src=\"figures/checkpointing.drawio.png\" width=\"600\">\n",
    "</div>"
   ]
  },
  {
   "cell_type": "markdown",
   "metadata": {
    "tags": []
   },
   "source": [
    "[1] Schulz, M. (2011). Checkpointing. In: Padua, D. (eds) Encyclopedia of Parallel Computing. Springer, Boston, MA. [10.1007/978-0-387-09766-4_62](https://doi.org/10.1007/978-0-387-09766-4_62)"
   ]
  },
  {
   "cell_type": "markdown",
   "metadata": {
    "slideshow": {
     "slide_type": "slide"
    },
    "tags": []
   },
   "source": [
    "# What is checkpointing in FEniCSx?\n",
    "- Write a mesh and function to file, that is readable by DOLFINx\n",
    "- Implemented in Python with [ADIOS2](https://adios2.readthedocs.io/en/latest/)\n",
    "- Available at: https://github.com/jorgensd/adios4dolfinx/"
   ]
  },
  {
   "cell_type": "code",
   "execution_count": 7,
   "metadata": {
    "tags": []
   },
   "outputs": [
    {
     "name": "stdout",
     "output_type": "stream",
     "text": [
      "File function_checkpoint.bp exists: True\n",
      "Max difference: 0.0\n"
     ]
    }
   ],
   "source": [
    "from dolfinx import mesh, fem\n",
    "from mpi4py import MPI\n",
    "import numpy as np\n",
    "import adios4dolfinx as adx\n",
    "from pathlib import Path\n",
    "\n",
    "domain = mesh.create_unit_square(MPI.COMM_WORLD, 10, 10)\n",
    "V = fem.FunctionSpace(domain, (\"Lagrange\", 5))\n",
    "u = fem.Function(V)\n",
    "u.interpolate(lambda x: x[0]**5 + 3*x[1]*x[0]**2)\n",
    "\n",
    "engine = \"BP4\"\n",
    "checkpoint_file = Path(\"function_checkpoint.bp\")\n",
    "adx.write_mesh(domain, checkpoint_file, engine=engine)\n",
    "adx.write_function(u, checkpoint_file, engine=engine)\n",
    "\n",
    "print(f\"File {str(checkpoint_file)} exists: {checkpoint_file.exists()}\")\n",
    "domain_in = adx.read_mesh(MPI.COMM_WORLD, checkpoint_file, engine, mesh.GhostMode.shared_facet)\n",
    "V_in = fem.FunctionSpace(domain_in, (\"Lagrange\", 5))\n",
    "u_in = fem.Function(V_in)\n",
    "adx.read_function(u_in, checkpoint_file, engine=engine)\n",
    "print(f\"Max difference: {max(abs(u_in.x.array - u.x.array))}\")"
   ]
  },
  {
   "cell_type": "markdown",
   "metadata": {
    "tags": []
   },
   "source": [
    "# Why do we need a new mesh when reading in a checkpoint?"
   ]
  },
  {
   "cell_type": "markdown",
   "metadata": {
    "slideshow": {
     "slide_type": "slide"
    },
    "tags": []
   },
   "source": [
    "# What is the optimal format?\n",
    "\n",
    "## FEM software\n",
    "- Most finite element software use their own format for inputting/outputting meshes and functions\n",
    "- No general consensus on what format to use\n",
    "\n",
    "## Post-processing\n",
    "- Most formats are based on [VTK](https://vtk.org/) in some shape or form\n",
    "- Many different file formats support `vtk`\n",
    "  - `.pvd`-files (`xml`-based)\n",
    "  - `.xdmf`-files (`xml`+binary (`.h5`)\n",
    "  - `.bp`-files (binary files in folder)"
   ]
  },
  {
   "cell_type": "code",
   "execution_count": null,
   "metadata": {
    "slideshow": {
     "slide_type": "fragment"
    },
    "tags": []
   },
   "outputs": [],
   "source": []
  }
 ],
 "metadata": {
  "kernelspec": {
   "display_name": "Python 3 (DOLFINx with ADIOS2)",
   "language": "python",
   "name": "python3-adios"
  },
  "language_info": {
   "codemirror_mode": {
    "name": "ipython",
    "version": 3
   },
   "file_extension": ".py",
   "mimetype": "text/x-python",
   "name": "python",
   "nbconvert_exporter": "python",
   "pygments_lexer": "ipython3",
   "version": "3.10.6"
  }
 },
 "nbformat": 4,
 "nbformat_minor": 4
}

{
 "cells": [
  {
   "cell_type": "markdown",
   "metadata": {
    "slideshow": {
     "slide_type": "slide"
    },
    "tags": []
   },
   "source": [
    "# Checkpointing in FEniCSx\n",
    "\n",
    "## Jørgen Schartum Dokken\n",
    "\n",
    "### Simula Research Laboratory\n",
    "\n",
    "FEniCS 23'\n",
    "\n",
    "<div>\n",
    "<p style=\"text-align:center;\"><img src=\"figures/fenics_banner.png\" width=\"500\">\n",
    "</div>\n"
   ]
  },
  {
   "cell_type": "markdown",
   "metadata": {
    "slideshow": {
     "slide_type": "slide"
    },
    "tags": []
   },
   "source": [
    "# What is checkpointing?\n",
    "\n",
    "> Checkpointing refers to the ability to store the state of a computation in a way that allows it be continued at a later time without changing the computation’s behavior [1]"
   ]
  },
  {
   "cell_type": "markdown",
   "metadata": {
    "tags": []
   },
   "source": [
    "<div>\n",
    "<p style=\"text-align:center;\"><img src=\"figures/checkpointing.drawio.png\" width=\"600\">\n",
    "</div>"
   ]
  },
  {
   "cell_type": "markdown",
   "metadata": {
    "tags": []
   },
   "source": [
    "[1] Schulz, M. (2011). Checkpointing. In: Padua, D. (eds) Encyclopedia of Parallel Computing. Springer, Boston, MA. [10.1007/978-0-387-09766-4_62](https://doi.org/10.1007/978-0-387-09766-4_62)"
   ]
  },
  {
   "cell_type": "markdown",
   "metadata": {
    "slideshow": {
     "slide_type": "slide"
    },
    "tags": []
   },
   "source": [
    "# What is checkpointing?\n",
    "- Write a mesh and function to file, that is readable by DOLFINx\n",
    "- Implemented in Python with [ADIOS2](https://adios2.readthedocs.io/en/latest/)\n",
    "- Available at: https://github.com/jorgensd/adios4dolfinx/"
   ]
  },
  {
   "cell_type": "code",
   "execution_count": 1,
   "metadata": {
    "tags": []
   },
   "outputs": [
    {
     "name": "stdout",
     "output_type": "stream",
     "text": [
      "File function_checkpoint.bp exists: True\n",
      "Max difference: 0.0\n"
     ]
    }
   ],
   "source": [
    "from dolfinx import mesh, fem\n",
    "from mpi4py import MPI\n",
    "import numpy as np\n",
    "import adios4dolfinx as adx\n",
    "from pathlib import Path\n",
    "\n",
    "domain = mesh.create_unit_square(MPI.COMM_WORLD, 10, 10)\n",
    "V = fem.FunctionSpace(domain, (\"Lagrange\", 5))\n",
    "u = fem.Function(V)\n",
    "u.interpolate(lambda x: x[0]**5 + 3*x[1]*x[0]**2)\n",
    "\n",
    "engine = \"BP4\"\n",
    "checkpoint_file = Path(\"function_checkpoint.bp\")\n",
    "adx.write_mesh(domain, checkpoint_file, engine=engine)\n",
    "adx.write_function(u, checkpoint_file, engine=engine)\n",
    "\n",
    "print(f\"File {str(checkpoint_file)} exists: {checkpoint_file.exists()}\")\n",
    "domain_in = adx.read_mesh(MPI.COMM_WORLD, checkpoint_file, engine, mesh.GhostMode.shared_facet)\n",
    "V_in = fem.FunctionSpace(domain_in, (\"Lagrange\", 5))\n",
    "u_in = fem.Function(V_in)\n",
    "adx.read_function(u_in, checkpoint_file, engine=engine)\n",
    "print(f\"Max difference: {max(abs(u_in.x.array - u.x.array))}\")"
   ]
  },
  {
   "cell_type": "markdown",
   "metadata": {
    "slideshow": {
     "slide_type": "slide"
    },
    "tags": []
   },
   "source": [
    "# Shallow checkpointing\n",
    "- Only meant to be used during simulation, on the same mesh\n",
    "\n",
    "Illustrating this using [IPythonParallel](https://ipyparallel.readthedocs.io/en/latest/)"
   ]
  },
  {
   "cell_type": "code",
   "execution_count": 2,
   "metadata": {
    "tags": [
     "hide-output"
    ]
   },
   "outputs": [
    {
     "name": "stdout",
     "output_type": "stream",
     "text": [
      "Starting 3 engines with <class 'ipyparallel.cluster.launcher.MPIEngineSetLauncher'>\n"
     ]
    },
    {
     "name": "stderr",
     "output_type": "stream",
     "text": [
      "INFO:ipyparallel.cluster.cluster.1686238502-z8j4:Starting 3 engines with <class 'ipyparallel.cluster.launcher.MPIEngineSetLauncher'>\n"
     ]
    },
    {
     "data": {
      "application/vnd.jupyter.widget-view+json": {
       "model_id": "5306ad1d60a34cb2bbdaca293e8f5174",
       "version_major": 2,
       "version_minor": 0
      },
      "text/plain": [
       "  0%|          | 0/3 [00:00<?, ?engine/s]"
      ]
     },
     "metadata": {},
     "output_type": "display_data"
    }
   ],
   "source": [
    "import ipyparallel as ipp\n",
    "cluster = ipp.Cluster(engines=\"mpi\", n=3)\n",
    "rc = cluster.start_and_connect_sync()"
   ]
  },
  {
   "cell_type": "code",
   "execution_count": 3,
   "metadata": {
    "tags": []
   },
   "outputs": [
    {
     "data": {
      "text/plain": [
       "[stdout:0] MPI.COMM_WORLD.rank=0, MPI.COMM_WORLD.size=3\n"
      ]
     },
     "metadata": {},
     "output_type": "display_data"
    },
    {
     "data": {
      "text/plain": [
       "[stdout:2] MPI.COMM_WORLD.rank=2, MPI.COMM_WORLD.size=3\n"
      ]
     },
     "metadata": {},
     "output_type": "display_data"
    },
    {
     "data": {
      "text/plain": [
       "[stdout:1] MPI.COMM_WORLD.rank=1, MPI.COMM_WORLD.size=3\n"
      ]
     },
     "metadata": {},
     "output_type": "display_data"
    }
   ],
   "source": [
    "%%px\n",
    "# Using the px magic runs the following commands on each engine\n",
    "from mpi4py import MPI\n",
    "from dolfinx import mesh, fem\n",
    "import adios2\n",
    "from pathlib import Path\n",
    "import numpy as np\n",
    "print(f\"{MPI.COMM_WORLD.rank=}, {MPI.COMM_WORLD.size=}\")"
   ]
  },
  {
   "cell_type": "markdown",
   "metadata": {},
   "source": [
    "# How to write a shallow checkpoint"
   ]
  },
  {
   "cell_type": "code",
   "execution_count": 4,
   "metadata": {
    "tags": []
   },
   "outputs": [],
   "source": [
    "%%px\n",
    "domain = mesh.create_unit_square(MPI.COMM_WORLD, 10, 10)\n",
    "V = fem.FunctionSpace(domain, (\"Lagrange\", 5))\n",
    "u = fem.Function(V)\n",
    "u.interpolate(lambda x: x[0]**5 + 3*x[1]*x[0]**2)\n",
    "\n",
    "def shallow_checkpoint_write(uh, file):\n",
    "    dofmap = uh.function_space.dofmap\n",
    "    adios = adios2.ADIOS(uh.function_space.mesh.comm)\n",
    "    io = adios.DeclareIO(\"shallow_cp_writer\")\n",
    "    io.SetEngine(\"BP5\")\n",
    "    outfile = io.Open(str(file), adios2.Mode.Write)\n",
    "    outfile.BeginStep()\n",
    "    num_dofs_local = dofmap.index_map.size_local * dofmap.index_map_bs\n",
    "    local_dofs = u.x.array[:num_dofs_local].copy()\n",
    "    dofs = io.DefineVariable(\"dofs\", local_dofs, count=[num_dofs_local])\n",
    "    outfile.Put(dofs, local_dofs, adios2.Mode.Sync)\n",
    "    outfile.EndStep()\n",
    "    adios.RemoveIO(\"shallow_cp_writer\")\n",
    "\n",
    "shallow_checkpoint_file = Path(\"u.bp\")\n",
    "shallow_checkpoint_write(u, shallow_checkpoint_file)"
   ]
  },
  {
   "cell_type": "code",
   "execution_count": 5,
   "metadata": {
    "tags": []
   },
   "outputs": [
    {
     "name": "stdout",
     "output_type": "stream",
     "text": [
      "  double   dofs  [3]*{__} = 2.99914e-53 / 4\n"
     ]
    },
    {
     "data": {
      "text/plain": [
       "CompletedProcess(args=['bpls', '-l', '/root/shared/u.bp'], returncode=0)"
      ]
     },
     "execution_count": 5,
     "metadata": {},
     "output_type": "execute_result"
    }
   ],
   "source": [
    "import subprocess\n",
    "shallow_checkpoint_file = Path(\"u.bp\")\n",
    "subprocess.run([\"bpls\", \"-l\", str(shallow_checkpoint_file.absolute())])"
   ]
  },
  {
   "cell_type": "markdown",
   "metadata": {
    "slideshow": {
     "slide_type": "slide"
    },
    "tags": []
   },
   "source": [
    "# How to read a shallow checkpoint"
   ]
  },
  {
   "cell_type": "code",
   "execution_count": 6,
   "metadata": {
    "tags": []
   },
   "outputs": [],
   "source": [
    "%%px\n",
    "def shallow_checkpoint_read(uh, file):\n",
    "    dofmap = uh.function_space.dofmap\n",
    "    adios = adios2.ADIOS(uh.function_space.mesh.comm)\n",
    "    io = adios.DeclareIO(\"shallow_cp_reader\")\n",
    "    io.SetEngine(\"BP5\")\n",
    "    infile = io.Open(str(file), adios2.Mode.Read)\n",
    "    infile.BeginStep()\n",
    "    num_dofs_local = dofmap.index_map.size_local * dofmap.index_map_bs\n",
    "    local_dofs = np.zeros(num_dofs_local, dtype=uh.x.array.dtype)\n",
    "    in_variable = io.InquireVariable(\"dofs\")\n",
    "    in_variable.SetBlockSelection(uh.function_space.mesh.comm.rank)\n",
    "    infile.Get(in_variable, local_dofs, adios2.Mode.Sync)\n",
    "    infile.EndStep()\n",
    "    adios.RemoveIO(\"shallow_cp_reader\")\n",
    "    v.x.array[:num_dofs_local] = local_dofs\n",
    "    v.x.scatter_forward()\n",
    "\n",
    "v = fem.Function(V)\n",
    "shallow_checkpoint_read(v, shallow_checkpoint_file)\n",
    "assert(np.allclose(u.x.array, v.x.array))"
   ]
  },
  {
   "cell_type": "markdown",
   "metadata": {
    "slideshow": {
     "slide_type": "slide"
    },
    "tags": []
   },
   "source": [
    "# What is the optimal format?\n",
    "\n",
    "## FEM software\n",
    "- Most finite element software use their own format for inputting/outputting meshes and functions\n",
    "- No general consensus on what format to use\n",
    "\n",
    "## Post-processing\n",
    "- Most formats are based on [VTK](https://vtk.org/) in some shape or form\n",
    "- Many different file formats support `vtk`\n",
    "  - `.pvd`-files (`xml`-based)\n",
    "  - `.xdmf`-files (`xml`+binary (`.h5`)\n",
    "  - `.bp`-files (binary files in folder)"
   ]
  },
  {
   "cell_type": "code",
   "execution_count": null,
   "metadata": {
    "slideshow": {
     "slide_type": "fragment"
    },
    "tags": []
   },
   "outputs": [],
   "source": []
  }
 ],
 "metadata": {
  "kernelspec": {
   "display_name": "Python 3 (DOLFINx with ADIOS2)",
   "language": "python",
   "name": "python3-adios"
  },
  "language_info": {
   "codemirror_mode": {
    "name": "ipython",
    "version": 3
   },
   "file_extension": ".py",
   "mimetype": "text/x-python",
   "name": "python",
   "nbconvert_exporter": "python",
   "pygments_lexer": "ipython3",
   "version": "3.10.6"
  }
 },
 "nbformat": 4,
 "nbformat_minor": 4
}

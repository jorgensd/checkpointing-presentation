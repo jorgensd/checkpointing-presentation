{
 "cells": [
  {
   "cell_type": "markdown",
   "metadata": {
    "slideshow": {
     "slide_type": "slide"
    },
    "tags": []
   },
   "source": [
    "# Checkpointing in FEniCSx\n",
    "\n",
    "## Jørgen Schartum Dokken\n",
    "\n",
    "### Simula Research Laboratory\n",
    "\n",
    "FEniCS 23'\n",
    "\n",
    "<div>\n",
    "<p style=\"text-align:center;\"><img src=\"fenics_banner.png\" width=\"500\">\n",
    "</div>\n"
   ]
  },
  {
   "cell_type": "markdown",
   "metadata": {
    "slideshow": {
     "slide_type": "slide"
    },
    "tags": []
   },
   "source": [
    "# What is checkpointing?\n",
    "\n",
    "> Checkpointing refers to the ability to store the state of a computation in a way that allows it be continued at a later time without changing the computation’s behavior [1]"
   ]
  },
  {
   "cell_type": "code",
   "execution_count": 19,
   "metadata": {
    "tags": []
   },
   "outputs": [
    {
     "name": "stdout",
     "output_type": "stream",
     "text": [
      "Write checkpoint to file at t=0.00\n",
      "Write checkpoint to file at t=3.33\n",
      "Write checkpoint to file at t=6.67\n",
      "Write checkpoint to file at t=10.00\n"
     ]
    }
   ],
   "source": [
    "import dolfinx\n",
    "from mpi4py import MPI\n",
    "import numpy as np\n",
    "mesh = dolfinx.mesh.create_unit_square(MPI.COMM_WORLD, 10, 10)\n",
    "V = dolfinx.fem.FunctionSpace(mesh, (\"Lagrange\", 5))\n",
    "u = dolfinx.fem.Function(V)\n",
    "z = dolfinx.fem.Function(V)\n",
    "steps_per_checkpoint = 5\n",
    "for i, t in enumerate(np.linspace(0, 10, 16, endpoint=True)):\n",
    "    u.interpolate(lambda x: t*x[0]+x[1])\n",
    "    # Use u in a computation to update z\n",
    "    # ....\n",
    "    if i % steps_per_checkpoint == 0:\n",
    "        # Call checkpointing function on z\n",
    "        # ....\n",
    "        print(f\"Write checkpoint to file at {t=:.2f}\")"
   ]
  },
  {
   "cell_type": "markdown",
   "metadata": {},
   "source": [
    "[1] Schulz, M. (2011). Checkpointing. In: Padua, D. (eds) Encyclopedia of Parallel Computing. Springer, Boston, MA. [10.1007/978-0-387-09766-4_62](https://doi.org/10.1007/978-0-387-09766-4_62)"
   ]
  },
  {
   "cell_type": "markdown",
   "metadata": {
    "slideshow": {
     "slide_type": "slide"
    },
    "tags": []
   },
   "source": [
    "# What is the optimal format?\n",
    "\n",
    "## FEM software\n",
    "- Most finite element software use their own format for inputting/outputting meshes and functions\n",
    "- No general consensus on what format to use\n",
    "\n",
    "## Post-processing\n",
    "- Most formats are based on [VTK](https://vtk.org/) in some shape or form\n",
    "- Many different file formats support `vtk`\n",
    "  - `.pvd`-files (`xml`-based)\n",
    "  - `.xdmf`-files (`xml`+binary (`.h5`)\n",
    "  - `.bp`-files (binary files in folder)"
   ]
  },
  {
   "cell_type": "code",
   "execution_count": 2,
   "metadata": {
    "slideshow": {
     "slide_type": "fragment"
    },
    "tags": []
   },
   "outputs": [
    {
     "ename": "NameError",
     "evalue": "name 'ss' is not defined",
     "output_type": "error",
     "traceback": [
      "\u001b[0;31m---------------------------------------------------------------------------\u001b[0m",
      "\u001b[0;31mNameError\u001b[0m                                 Traceback (most recent call last)",
      "Cell \u001b[0;32mIn[2], line 1\u001b[0m\n\u001b[0;32m----> 1\u001b[0m \u001b[43mss\u001b[49m\n",
      "\u001b[0;31mNameError\u001b[0m: name 'ss' is not defined"
     ]
    }
   ],
   "source": [
    "print(\"ss\")"
   ]
  },
  {
   "cell_type": "code",
   "execution_count": 6,
   "metadata": {
    "tags": []
   },
   "outputs": [
    {
     "name": "stdout",
     "output_type": "stream",
     "text": [
      "55\n"
     ]
    }
   ],
   "source": [
    "print(55)"
   ]
  },
  {
   "cell_type": "code",
   "execution_count": null,
   "metadata": {
    "slideshow": {
     "slide_type": "fragment"
    },
    "tags": []
   },
   "outputs": [],
   "source": []
  }
 ],
 "metadata": {
  "kernelspec": {
   "display_name": "Python 3 (ipykernel)",
   "language": "python",
   "name": "python3"
  },
  "language_info": {
   "codemirror_mode": {
    "name": "ipython",
    "version": 3
   },
   "file_extension": ".py",
   "mimetype": "text/x-python",
   "name": "python",
   "nbconvert_exporter": "python",
   "pygments_lexer": "ipython3",
   "version": "3.10.6"
  }
 },
 "nbformat": 4,
 "nbformat_minor": 4
}

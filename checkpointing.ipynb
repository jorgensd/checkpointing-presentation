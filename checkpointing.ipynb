{
 "cells": [
  {
   "cell_type": "markdown",
   "metadata": {
    "editable": true,
    "jp-MarkdownHeadingCollapsed": true,
    "slideshow": {
     "slide_type": "slide"
    },
    "tags": []
   },
   "source": [
    "<style>\n",
    "div.column {\n",
    "  float: left;\n",
    "  width: 33.33%;\n",
    "  padding: 5px;\n",
    "}\n",
    "div.row::after {\n",
    "  content: \"\";\n",
    "  clear: both;\n",
    "  display: table;\n",
    "}\n",
    "</style>\n",
    "\n",
    "# Checkpointing in FEniCSx\n",
    "\n",
    "## Jørgen Schartum Dokken\n",
    "\n",
    "### Simula Research Laboratory\n",
    "\n",
    "FEniCS 23'\n",
    " <div class=\"row\">\n",
    "  <div class=\"column\">\n",
    "    <img src=\"figures/fenics_banner.png\" style=\"width:100%\">\n",
    "    </div>\n",
    "  <div class=\"column\">\n",
    "   <img src=\"figures/logo.png\" width=\"100%\">\n",
    "   </div>\n",
    "</div> \n"
   ]
  },
  {
   "cell_type": "markdown",
   "metadata": {
    "editable": true,
    "slideshow": {
     "slide_type": "slide"
    },
    "tags": []
   },
   "source": [
    "# Input/Output formats for Finite Element software\n",
    "\n",
    "## FEM software\n",
    "- Most finite element software use their own format for inputting/outputting meshes and functions\n",
    "- No general consensus on what format to use\n",
    "\n",
    "## Post-processing\n",
    "- Most formats are based on [VTK](https://vtk.org/) in some shape or form\n",
    "- Many different file formats support `vtk`\n",
    "  - `.pvd`-files (`xml`-based)\n",
    "  - `.xdmf`-files (`xml`+binary (`.h5`)\n",
    "  - `.bp`-files (binary files in folder)"
   ]
  },
  {
   "cell_type": "markdown",
   "metadata": {
    "editable": true,
    "slideshow": {
     "slide_type": "slide"
    },
    "tags": []
   },
   "source": [
    "# What is checkpointing?\n",
    "\n",
    "> Checkpointing refers to the ability to store the state of a computation in a way that allows it be continued at a later time without changing the computation’s behavior [1]"
   ]
  },
  {
   "cell_type": "markdown",
   "metadata": {
    "editable": true,
    "slideshow": {
     "slide_type": ""
    },
    "tags": []
   },
   "source": [
    "<div>\n",
    "<p style=\"text-align:center;\"><img src=\"figures/checkpointing.drawio.png\" width=\"600\">\n",
    "</div>"
   ]
  },
  {
   "cell_type": "markdown",
   "metadata": {
    "editable": true,
    "slideshow": {
     "slide_type": ""
    },
    "tags": []
   },
   "source": [
    "[1] Schulz, M. (2011). Checkpointing. In: Padua, D. (eds) Encyclopedia of Parallel Computing. Springer, Boston, MA. [10.1007/978-0-387-09766-4_62](https://doi.org/10.1007/978-0-387-09766-4_62)"
   ]
  },
  {
   "cell_type": "markdown",
   "metadata": {
    "editable": true,
    "slideshow": {
     "slide_type": "slide"
    },
    "tags": []
   },
   "source": [
    "# Why separate post-processing and checkpointing?\n",
    "The post-processing landscape keeps on changing\n",
    "- Plain text formats are not scalable\n",
    "- Formats go in and out of fashion\n",
    "- Requirements for visualization and internal representation of data differs\n",
    "<div>\n",
    "<p style=\"text-align:center;\"><img src=\"figures/N1curl.png\" width=\"800\">\n",
    "     <figcaption>A basis function for Degree 1 Nédélec (first kind) on a triangle from  <a href=\"https://defelement.com/elements/examples/triangle-N1curl-1.html\">DefElement.</a> </figcaption>\n",
    "</div>\n"
   ]
  },
  {
   "cell_type": "markdown",
   "metadata": {
    "editable": true,
    "slideshow": {
     "slide_type": "slide"
    },
    "tags": []
   },
   "source": [
    "# Types of checkpointing\n",
    "\n",
    "- _Snapshot checkpointing_\n",
    "  - Only works while the program is running\n",
    "  - FEniCS-setting: Mesh has to be the same"
   ]
  },
  {
   "cell_type": "markdown",
   "metadata": {
    "editable": true,
    "slideshow": {
     "slide_type": "fragment"
    },
    "tags": []
   },
   "source": [
    "  - _Recoverable checkpointing_\n",
    "    - Should work on any system\n",
    "    - Any number of processes"
   ]
  },
  {
   "cell_type": "markdown",
   "metadata": {
    "editable": true,
    "slideshow": {
     "slide_type": "slide"
    },
    "tags": []
   },
   "source": [
    "# Implementing a snapshot checkpoint\n",
    "\n",
    "Illustrated using [IPythonParallel](https://ipyparallel.readthedocs.io/en/latest/)"
   ]
  },
  {
   "cell_type": "code",
   "execution_count": 1,
   "metadata": {
    "editable": true,
    "slideshow": {
     "slide_type": ""
    },
    "tags": [
     "hide-output"
    ]
   },
   "outputs": [
    {
     "name": "stdout",
     "output_type": "stream",
     "text": [
      "Starting 3 engines with <class 'ipyparallel.cluster.launcher.MPIEngineSetLauncher'>\n"
     ]
    }
   ],
   "source": [
    "import ipyparallel as ipp\n",
    "cluster = ipp.Cluster(engines=\"mpi\", n=3, interactive=False)\n",
    "rc = cluster.start_and_connect_sync()"
   ]
  },
  {
   "cell_type": "code",
   "execution_count": 2,
   "metadata": {
    "editable": true,
    "slideshow": {
     "slide_type": "fragment"
    },
    "tags": []
   },
   "outputs": [
    {
     "name": "stdout",
     "output_type": "stream",
     "text": [
      "[stdout:0] \n",
      "MPI.COMM_WORLD.rank=0, MPI.COMM_WORLD.size=3\n",
      "[stdout:1] \n",
      "MPI.COMM_WORLD.rank=1, MPI.COMM_WORLD.size=3\n",
      "[stdout:2] \n",
      "MPI.COMM_WORLD.rank=2, MPI.COMM_WORLD.size=3\n"
     ]
    }
   ],
   "source": [
    "%%px\n",
    "from mpi4py import MPI\n",
    "from dolfinx import mesh, fem\n",
    "import adios2\n",
    "from pathlib import Path\n",
    "import numpy as np\n",
    "print(f\"{MPI.COMM_WORLD.rank=}, {MPI.COMM_WORLD.size=}\")"
   ]
  },
  {
   "cell_type": "markdown",
   "metadata": {
    "editable": true,
    "slideshow": {
     "slide_type": "slide"
    },
    "tags": []
   },
   "source": [
    "# Implementing a snapshot checkpoint (write)"
   ]
  },
  {
   "cell_type": "code",
   "execution_count": 3,
   "metadata": {
    "editable": true,
    "slideshow": {
     "slide_type": ""
    },
    "tags": []
   },
   "outputs": [],
   "source": [
    "%%px\n",
    "\n",
    "def snapshot_checkpoint_write(uh: fem.Function, file: Path):\n",
    "    # Create ADIOS IO\n",
    "    adios = adios2.ADIOS(uh.function_space.mesh.comm)\n",
    "    io_name = \"SnapshotCheckPoint\"\n",
    "    io = adios.DeclareIO(io_name)\n",
    "    io.SetEngine(\"BP4\")\n",
    "    adios_file = io.Open(str(file), adios2.Mode.Write)\n",
    "\n",
    "    dofmap = uh.function_space.dofmap\n",
    "    num_dofs_local = dofmap.index_map.size_local * dofmap.index_map_bs\n",
    "\n",
    "    # Extract local function data\n",
    "    local_dofs = uh.x.array[:num_dofs_local].copy()\n",
    "\n",
    "    # Write to file\n",
    "    adios_file.BeginStep()\n",
    "    dofs = io.DefineVariable(\"dofs\", local_dofs, count=[num_dofs_local])\n",
    "    adios_file.Put(dofs, local_dofs, adios2.Mode.Sync)\n",
    "    adios_file.EndStep()\n",
    "    adios.RemoveIO(io_name)"
   ]
  },
  {
   "cell_type": "markdown",
   "metadata": {
    "editable": true,
    "slideshow": {
     "slide_type": "slide"
    },
    "tags": []
   },
   "source": [
    "# Implementing a snapshot checkpoint (write)"
   ]
  },
  {
   "cell_type": "code",
   "execution_count": 4,
   "metadata": {
    "editable": true,
    "slideshow": {
     "slide_type": ""
    },
    "tags": []
   },
   "outputs": [],
   "source": [
    "%%px\n",
    "domain = mesh.create_unit_square(MPI.COMM_WORLD, 10, 10)\n",
    "V = fem.FunctionSpace(domain, (\"Lagrange\", 5))\n",
    "u = fem.Function(V)\n",
    "u.interpolate(lambda x: x[0]**5 + 3*x[1]*x[0]**2)\n",
    "scp_file = Path(\"u.bp\")\n",
    "snapshot_checkpoint_write(u, scp_file)"
   ]
  },
  {
   "cell_type": "code",
   "execution_count": 5,
   "metadata": {
    "editable": true,
    "slideshow": {
     "slide_type": "fragment"
    },
    "tags": []
   },
   "outputs": [
    {
     "name": "stdout",
     "output_type": "stream",
     "text": [
      "  double   dofs  [3]*{__} = 2.99914e-53 / 4\n",
      "        step 0: \n",
      "          block 0: [0:871] = 0.000425685 / 3.1\n",
      "          block 1: [0:862] = 0.0866018 / 4\n",
      "          block 2: [0:865] = 2.99914e-53 / 0.49024\n"
     ]
    }
   ],
   "source": [
    "import subprocess\n",
    "from pathlib import Path\n",
    "scp_file = Path(\"u.bp\")\n",
    "_ = subprocess.run([\"bpls\", \"-l\", \"-D\", str(scp_file.absolute())])"
   ]
  },
  {
   "cell_type": "markdown",
   "metadata": {
    "editable": true,
    "slideshow": {
     "slide_type": "slide"
    },
    "tags": []
   },
   "source": [
    "# Implementing a snapshot checkpoint (read)"
   ]
  },
  {
   "cell_type": "code",
   "execution_count": 6,
   "metadata": {
    "editable": true,
    "slideshow": {
     "slide_type": ""
    },
    "tags": []
   },
   "outputs": [],
   "source": [
    "%%px\n",
    "def snapshot_checkpoint_read(uh: fem.Function, file: Path):\n",
    "    adios = adios2.ADIOS(uh.function_space.mesh.comm)\n",
    "    io_name = \"SnapshotCheckPoint\"\n",
    "    io = adios.DeclareIO(io_name)\n",
    "    io.SetEngine(\"BP4\")\n",
    "    adios_file = io.Open(str(file), adios2.Mode.Read)\n",
    "\n",
    "    dofmap = uh.function_space.dofmap\n",
    "    num_dofs_local = dofmap.index_map.size_local * dofmap.index_map_bs\n",
    "\n",
    "    adios_file.BeginStep()\n",
    "    in_variable = io.InquireVariable(\"dofs\")\n",
    "    in_variable.SetBlockSelection(uh.function_space.mesh.comm.rank)\n",
    "    adios_file.Get(in_variable, uh.x.array, adios2.Mode.Sync)\n",
    "    adios_file.EndStep()\n",
    "    uh.x.scatter_forward()\n",
    "    adios.RemoveIO(io_name)"
   ]
  },
  {
   "cell_type": "code",
   "execution_count": 7,
   "metadata": {
    "editable": true,
    "slideshow": {
     "slide_type": ""
    },
    "tags": []
   },
   "outputs": [],
   "source": [
    "%%px\n",
    "v = fem.Function(V)\n",
    "snapshot_checkpoint_read(v, scp_file)\n",
    "assert(np.allclose(u.x.array, v.x.array))"
   ]
  },
  {
   "cell_type": "markdown",
   "metadata": {
    "editable": true,
    "slideshow": {
     "slide_type": "slide"
    },
    "tags": []
   },
   "source": [
    "# ADIOS4DOLFINx is a package for checkpointing\n",
    "- Implemented in Python with [ADIOS2](https://adios2.readthedocs.io/en/latest/) [2]\n",
    "- Available at: [https://github.com/jorgensd/adios4dolfinx/](https://github.com/jorgensd/adios4dolfinx/)"
   ]
  },
  {
   "cell_type": "markdown",
   "metadata": {
    "editable": true,
    "slideshow": {
     "slide_type": "fragment"
    },
    "tags": []
   },
   "source": [
    "## Features\n",
    "- Snapshot checkpointing\n",
    "- Recoverable checkpointing"
   ]
  },
  {
   "cell_type": "code",
   "execution_count": 8,
   "metadata": {
    "editable": true,
    "slideshow": {
     "slide_type": ""
    },
    "tags": [
     "hide-output"
    ]
   },
   "outputs": [
    {
     "name": "stderr",
     "output_type": "stream",
     "text": [
      "[stderr:0] \n",
      "WARNING:py.warnings:/usr/local/lib/python3.10/dist-packages/adios4dolfinx/utils.py:114: NumbaDeprecationWarning: The 'nopython' keyword argument was not supplied to the 'numba.jit' decorator. The implicit default value for this argument is currently False, but it will be changed to True in Numba 0.59.0. See https://numba.readthedocs.io/en/stable/reference/deprecation.html#deprecation-of-object-mode-fall-back-behaviour-when-using-jit for details.\n",
      "  def find_first(b: int, a: npt.NDArray[np.int32]):\n",
      "\n",
      "[stderr:1] \n",
      "WARNING:py.warnings:/usr/local/lib/python3.10/dist-packages/adios4dolfinx/utils.py:114: NumbaDeprecationWarning: The 'nopython' keyword argument was not supplied to the 'numba.jit' decorator. The implicit default value for this argument is currently False, but it will be changed to True in Numba 0.59.0. See https://numba.readthedocs.io/en/stable/reference/deprecation.html#deprecation-of-object-mode-fall-back-behaviour-when-using-jit for details.\n",
      "  def find_first(b: int, a: npt.NDArray[np.int32]):\n",
      "\n",
      "[stderr:2] \n",
      "WARNING:py.warnings:/usr/local/lib/python3.10/dist-packages/adios4dolfinx/utils.py:114: NumbaDeprecationWarning: The 'nopython' keyword argument was not supplied to the 'numba.jit' decorator. The implicit default value for this argument is currently False, but it will be changed to True in Numba 0.59.0. See https://numba.readthedocs.io/en/stable/reference/deprecation.html#deprecation-of-object-mode-fall-back-behaviour-when-using-jit for details.\n",
      "  def find_first(b: int, a: npt.NDArray[np.int32]):\n",
      "\n"
     ]
    }
   ],
   "source": [
    "%%px\n",
    "import adios4dolfinx as adx\n",
    "domain = mesh.create_unit_cube(MPI.COMM_WORLD, 10, 7, 3)\n",
    "V = fem.FunctionSpace(domain, (\"N1curl\", 3))\n",
    "u = fem.Function(V)\n",
    "u.interpolate(lambda x: (x[0], x[1]*x[1], np.sin(x[2])))\n",
    "cp_file = Path(\"u_curl.bp\")\n",
    "adx.snapshot_checkpoint(u, cp_file, adios2.Mode.Write)\n",
    "v = fem.Function(V)\n",
    "adx.snapshot_checkpoint(v, cp_file, adios2.Mode.Read)\n",
    "assert np.allclose(v.x.array, u.x.array)"
   ]
  },
  {
   "cell_type": "markdown",
   "metadata": {
    "editable": true,
    "slideshow": {
     "slide_type": ""
    },
    "tags": []
   },
   "source": [
    "[2] W.F. Godoy, et al. _ADIOS 2: The Adaptable Input Output System. A framework for high-performance data management_, SoftwareX, Volume 12, 2020, [10.1016/j.softx.2020.100561](https://doi.org/10.1016/j.softx.2020.100561)"
   ]
  },
  {
   "cell_type": "markdown",
   "metadata": {
    "editable": true,
    "slideshow": {
     "slide_type": "slide"
    },
    "tags": []
   },
   "source": [
    "# How to do recoverable checkpointing?\n",
    "\n",
    "Required information:\n",
    "- `Mesh` (topology, geometry, base-element)\n",
    "- `FunctionSpace` (dofmap)\n",
    "- `Function` coefficient (dofs)"
   ]
  },
  {
   "cell_type": "code",
   "execution_count": 9,
   "metadata": {
    "editable": true,
    "slideshow": {
     "slide_type": ""
    },
    "tags": []
   },
   "outputs": [],
   "source": [
    "%%px\n",
    "domain = mesh.create_unit_square(MPI.COMM_WORLD, 10, 10, mesh.CellType.quadrilateral)\n",
    "V = fem.FunctionSpace(domain, (\"NCE\", 3))\n",
    "u = fem.Function(V)\n",
    "u.interpolate(lambda x: (x[0]**5, 3*x[1]*x[0]**2))\n",
    "checkpoint_file = Path(\"function_checkpoint.bp\")\n",
    "adx.write_mesh(domain, checkpoint_file, engine=\"BP4\")\n",
    "adx.write_function(u, checkpoint_file, engine=\"BP4\")"
   ]
  },
  {
   "cell_type": "markdown",
   "metadata": {
    "editable": true,
    "slideshow": {
     "slide_type": "slide"
    },
    "tags": []
   },
   "source": [
    "# Required data-structures"
   ]
  },
  {
   "cell_type": "code",
   "execution_count": 10,
   "metadata": {
    "editable": true,
    "slideshow": {
     "slide_type": ""
    },
    "tags": [
     "hide-input"
    ]
   },
   "outputs": [
    {
     "name": "stdout",
     "output_type": "stream",
     "text": [
      "  uint32_t  CellPermutations  {100} = 0 / 12\n",
      "        step 0: \n",
      "          block 0: [ 0:32] = 0 / 8\n",
      "          block 1: [33:65] = 0 / 12\n",
      "          block 2: [66:99] = 0 / 8\n",
      "  int64_t   Dofmap            {2400} = 0 / 1859\n",
      "        step 1: \n",
      "          block 0: [   0: 791] = 0 / 1373\n",
      "          block 1: [ 792:1583] = 189 / 1520\n",
      "          block 2: [1584:2399] = 504 / 1859\n",
      "  double    Points            {121, 2} = 0 / 1\n",
      "        step 0: \n",
      "          block 0: [  0: 39, 0:1] = 0 / 1\n",
      "          block 1: [ 40: 80, 0:1] = 0 / 1\n",
      "          block 2: [ 81:120, 0:1] = 0.3 / 1\n",
      "  int64_t   Topology          {100, 4} = 0 / 120\n",
      "        step 0: \n",
      "          block 0: [ 0:32, 0:3] = 0 / 93\n",
      "          block 1: [33:65, 0:3] = 17 / 117\n",
      "          block 2: [66:99, 0:3] = 38 / 120\n",
      "  double    Values            {1860} = -0.165 / 0.285\n",
      "        step 1: \n",
      "          block 0: [   0: 620] = -0.00945 / 0.025175\n",
      "          block 1: [ 621:1232] = -0.105 / 0.135\n",
      "          block 2: [1233:1859] = -0.165 / 0.285\n",
      "  int64_t   XDofmap           {101} = 0 / 2400\n",
      "        step 1: \n",
      "          block 0: [  0: 33] = 0 / 792\n",
      "          block 1: [ 33: 66] = 792 / 1584\n",
      "          block 2: [ 66:100] = 1584 / 2400\n"
     ]
    }
   ],
   "source": [
    "checkpoint_file = Path(\"function_checkpoint.bp\")\n",
    "_ = subprocess.run([\"bpls\", \"-l\", \"-D\", str(checkpoint_file.absolute())])"
   ]
  },
  {
   "cell_type": "markdown",
   "metadata": {
    "editable": true,
    "slideshow": {
     "slide_type": "slide"
    },
    "tags": []
   },
   "source": [
    "# Required data-structures"
   ]
  },
  {
   "cell_type": "code",
   "execution_count": 11,
   "metadata": {
    "editable": true,
    "slideshow": {
     "slide_type": ""
    },
    "tags": [
     "hide-input"
    ]
   },
   "outputs": [
    {
     "name": "stdout",
     "output_type": "stream",
     "text": [
      "  string   CellType         attr   = \"quadrilateral\"\n",
      "  int32_t  Degree           attr   = 1\n",
      "  int32_t  LagrangeVariant  attr   = 1\n"
     ]
    }
   ],
   "source": [
    "_ = subprocess.run([\"bpls\", str(checkpoint_file.absolute()), \"-A\", \"-D\", \"-l\"])"
   ]
  },
  {
   "cell_type": "code",
   "execution_count": 12,
   "metadata": {
    "editable": true,
    "slideshow": {
     "slide_type": ""
    },
    "tags": [
     "hide-input"
    ]
   },
   "outputs": [
    {
     "data": {
      "image/png": "[encoded data removed]",
      "text/plain": [
       "<PIL.Image.Image image mode=RGB size=700x300>"
      ]
     },
     "metadata": {},
     "output_type": "display_data"
    }
   ],
   "source": [
    "import dolfinx \n",
    "from mpi4py import MPI\n",
    "import pyvista\n",
    "import basix\n",
    "mesh = dolfinx.mesh.create_unit_square(MPI.COMM_WORLD, 1, 1, cell_type=dolfinx.mesh.CellType.quadrilateral)\n",
    "el_1 = basix.ufl.element(basix.ElementFamily.P, basix.CellType.quadrilateral, 4,\n",
    "                               basix.LagrangeVariant.equispaced)\n",
    "el_2 = basix.ufl.element(basix.ElementFamily.P, basix.CellType.quadrilateral, 4,\n",
    "                               basix.LagrangeVariant.gll_warped)\n",
    "V1 = dolfinx.fem.FunctionSpace(mesh, el_1)\n",
    "V2 = dolfinx.fem.FunctionSpace(mesh, el_2)\n",
    "grid_1 = pyvista.UnstructuredGrid(*dolfinx.plot.create_vtk_mesh(V1))\n",
    "grid_2 = pyvista.UnstructuredGrid(*dolfinx.plot.create_vtk_mesh(V2))\n",
    "pyvista.set_jupyter_backend(\"static\")\n",
    "pyvista.start_xvfb(1)\n",
    "plotter = pyvista.Plotter(shape=(1, 2), window_size=(700,300))\n",
    "plotter.add_text(\"Q4 Equispaced\", position=\"upper_edge\", font_size=10)\n",
    "plotter.add_mesh(grid_1)\n",
    "plotter.add_points(grid_1.points)\n",
    "plotter.view_xy()\n",
    "plotter.subplot(0, 1)\n",
    "plotter.add_text(\"Q4 Gauss-Lobatto-Legendre\", position=\"upper_edge\", font_size=10)\n",
    "plotter.add_mesh(grid_2)\n",
    "plotter.add_points(grid_2.points)\n",
    "plotter.view_xy()\n",
    "plotter.show()"
   ]
  },
  {
   "cell_type": "markdown",
   "metadata": {
    "editable": true,
    "slideshow": {
     "slide_type": "slide"
    },
    "tags": []
   },
   "source": [
    "# Cell-permutations are used to consistently orient any finite element in parallel [3]\n",
    "\n",
    "<div>\n",
    "<p style=\"text-align:center;\"><img src=\"figures/doforientation.png\" width=\"600\">\n",
    "</div>\n"
   ]
  },
  {
   "cell_type": "code",
   "execution_count": 13,
   "metadata": {
    "editable": true,
    "slideshow": {
     "slide_type": ""
    },
    "tags": [
     "hide-input"
    ]
   },
   "outputs": [
    {
     "name": "stdout",
     "output_type": "stream",
     "text": [
      "  uint32_t  CellPermutations  {100} = 0 / 12\n",
      "        step 0: \n",
      "          block 0: [ 0:32] = 0 / 8\n",
      "          block 1: [33:65] = 0 / 12\n",
      "          block 2: [66:99] = 0 / 8\n"
     ]
    }
   ],
   "source": [
    "checkpoint_file = Path(\"function_checkpoint.bp\")\n",
    "_ = subprocess.run([\"bpls\", str(checkpoint_file.absolute()), \"-la\", \"CellPermutations\", \"-D\"])"
   ]
  },
  {
   "cell_type": "markdown",
   "metadata": {
    "editable": true,
    "slideshow": {
     "slide_type": ""
    },
    "tags": []
   },
   "source": [
    "[3] M.W. Scroggs, J.S. Dokken, C.N. Richardson, and G.N. Wells. 2022. _Construction of Arbitrary Order Finite Element Degree-of-Freedom Maps on Polygonal and Polyhedral Cell Meshes_ ACM Trans. Math. Softw. 48, 2, [10.1145/3524456](https://doi.org/10.1145/3524456)  "
   ]
  },
  {
   "cell_type": "markdown",
   "metadata": {
    "editable": true,
    "slideshow": {
     "slide_type": "slide"
    },
    "tags": []
   },
   "source": [
    "# The dofmap is needed to map the `Values` to the correct cell after partitioning"
   ]
  },
  {
   "cell_type": "code",
   "execution_count": 14,
   "metadata": {
    "editable": true,
    "slideshow": {
     "slide_type": ""
    },
    "tags": [
     "hide-input"
    ]
   },
   "outputs": [
    {
     "name": "stdout",
     "output_type": "stream",
     "text": [
      "  int64_t   Dofmap            {2400} = 0 / 1859\n",
      "        step 1: \n",
      "          block 0: [   0: 791] = 0 / 1373\n",
      "          block 1: [ 792:1583] = 189 / 1520\n",
      "          block 2: [1584:2399] = 504 / 1859\n",
      "  int64_t   XDofmap           {101} = 0 / 2400\n",
      "        step 1: \n",
      "          block 0: [  0: 33] = 0 / 792\n",
      "          block 1: [ 33: 66] = 792 / 1584\n",
      "          block 2: [ 66:100] = 1584 / 2400\n"
     ]
    }
   ],
   "source": [
    "checkpoint_file = Path(\"function_checkpoint.bp\")\n",
    "_ = subprocess.run([\"bpls\", str(checkpoint_file.absolute()), \"-la\", \"*Dof*\", \"-D\"])"
   ]
  },
  {
   "cell_type": "markdown",
   "metadata": {
    "editable": true,
    "slideshow": {
     "slide_type": "slide"
    },
    "tags": []
   },
   "source": [
    "# All communication is done using MPI neighbourhood communicators\n",
    "\n",
    "- Avoids all `MPI_Alltoall` and `MPI_Alltoallv` communications\n",
    "- Scales better with increasing number of processes [4]\n",
    "\n",
    "[4] C. Richardson, G.N. Wells _Scalable MPI in FEniCS-dolfinx_  FEniCS 22'"
   ]
  },
  {
   "cell_type": "markdown",
   "metadata": {
    "editable": true,
    "slideshow": {
     "slide_type": "slide"
    },
    "tags": []
   },
   "source": [
    "# Further work\n",
    "- Move implementation into C++ and DOLFINx\n",
    "  - First step in [PR 2618](https://github.com/FEniCS/dolfinx/pull/2618)\n",
    "- Add capability to store `MeshTags` in checkpointing files\n",
    "\n",
    "\n",
    "\n",
    "# Summary\n",
    "- A module for _snapshot_ and proper checkpoints for DOLFINx\n",
    "- Works for any finite element in DOLFINx in serial and parallel\n",
    "- Leverages ADIOS2 for parallel IO\n",
    "\n",
    "<div class=\"row\">\n",
    "  <div class=\"column\">\n",
    "    <img src=\"figures/fenics_banner.png\" style=\"width:100%\">\n",
    "    </div>\n",
    "  <div class=\"column\">\n",
    "   <img src=\"figures/logo.png\" width=\"100%\">\n",
    "   </div>\n",
    "</div> "
   ]
  }
 ],
 "metadata": {
  "kernelspec": {
   "display_name": "Python 3 (DOLFINx with ADIOS2)",
   "language": "python",
   "name": "python3-adios"
  },
  "language_info": {
   "codemirror_mode": {
    "name": "ipython",
    "version": 3
   },
   "file_extension": ".py",
   "mimetype": "text/x-python",
   "name": "python",
   "nbconvert_exporter": "python",
   "pygments_lexer": "ipython3",
   "version": "3.10.6"
  }
 },
 "nbformat": 4,
 "nbformat_minor": 4
}
